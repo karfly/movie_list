{
 "cells": [
  {
   "cell_type": "markdown",
   "metadata": {},
   "source": [
    "# Movies to watch"
   ]
  },
  {
   "cell_type": "markdown",
   "metadata": {},
   "source": [
    "For me, it's a great problem to find a good movie to watch. Recently I found out that I love movies where **director** is a **writer**. So I decided to find such movies, sort it by rating and then watch them all!"
   ]
  },
  {
   "cell_type": "code",
   "execution_count": 1,
   "metadata": {
    "collapsed": true,
    "deletable": true,
    "editable": true
   },
   "outputs": [],
   "source": [
    "import requests\n",
    "from bs4 import BeautifulSoup\n",
    "\n",
    "import pandas as pd\n",
    "\n",
    "import time\n",
    "import random\n",
    "\n",
    "from tqdm import tqdm_notebook as tqdm"
   ]
  },
  {
   "cell_type": "markdown",
   "metadata": {},
   "source": [
    "## Scrape all movies' names and urls"
   ]
  },
  {
   "cell_type": "code",
   "execution_count": 2,
   "metadata": {
    "collapsed": true,
    "deletable": true,
    "editable": true
   },
   "outputs": [],
   "source": [
    "root_url = 'https://www.kinopoisk.ru'\n",
    "movie_list_url_template = 'https://www.kinopoisk.ru/top/navigator/m_act[rating]/order/rating/0:/perpage/200/page/{}'"
   ]
  },
  {
   "cell_type": "markdown",
   "metadata": {},
   "source": [
    "Get total number of pages "
   ]
  },
  {
   "cell_type": "code",
   "execution_count": null,
   "metadata": {
    "collapsed": false
   },
   "outputs": [],
   "source": [
    "movie_list_page_1_soup = BeautifulSoup(requests.get(movie_list_url_template.format(1)).content, 'lxml')\n",
    "\n",
    "n_movies = int(movie_list_page_1_soup.find('div', class_='pagesFromTo').text.split(' ')[-1])\n",
    "n_pages = n_movies // 200 + 1  # 200 movies per page"
   ]
  },
  {
   "cell_type": "markdown",
   "metadata": {},
   "source": [
    "Iterate over all pages and collect all movies' names with urls"
   ]
  },
  {
   "cell_type": "code",
   "execution_count": null,
   "metadata": {
    "collapsed": false
   },
   "outputs": [],
   "source": [
    "movies = []\n",
    "\n",
    "for page in tqdm(range(1, n_pages + 1)):\n",
    "    movie_list_soup = BeautifulSoup(requests.get(movie_list_url_template.format(page)).content, 'lxml')\n",
    "    \n",
    "    for movie_soup in movie_list_soup.find_all('div', class_='item _NO_HIGHLIGHT_'):\n",
    "        movie_name_item = movie_soup.find('div', class_='name').find('a')\n",
    "        movies.append({\n",
    "            'url': root_url + movie_name_item['href'],\n",
    "            'name': movie_name_item.text\n",
    "        })\n",
    "        \n",
    "    time.sleep(random.random())"
   ]
  },
  {
   "cell_type": "markdown",
   "metadata": {},
   "source": [
    "Saving results"
   ]
  },
  {
   "cell_type": "code",
   "execution_count": null,
   "metadata": {
    "collapsed": false
   },
   "outputs": [],
   "source": [
    "with open('kinopoisk_all_movies_names_and_urls.csv', 'w') as fout:\n",
    "    df = pd.DataFrame(data=movies)\n",
    "    df.to_csv(fout, index=None)"
   ]
  },
  {
   "cell_type": "code",
   "execution_count": null,
   "metadata": {
    "collapsed": true
   },
   "outputs": [],
   "source": []
  }
 ],
 "metadata": {
  "kernelspec": {
   "display_name": "Python 3 (tf_env)",
   "language": "python",
   "name": "python3"
  },
  "language_info": {
   "codemirror_mode": {
    "name": "ipython",
    "version": 3
   },
   "file_extension": ".py",
   "mimetype": "text/x-python",
   "name": "python",
   "nbconvert_exporter": "python",
   "pygments_lexer": "ipython3",
   "version": "3.6.0"
  },
  "widgets": {
   "state": {
    "553cbddc27d64c7eba2416c972d9881c": {
     "views": [
      {
       "cell_index": 4
      }
     ]
    }
   },
   "version": "1.2.0"
  }
 },
 "nbformat": 4,
 "nbformat_minor": 2
}
